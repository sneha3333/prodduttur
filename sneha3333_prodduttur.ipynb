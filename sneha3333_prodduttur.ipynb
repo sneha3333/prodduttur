{
  "nbformat": 4,
  "nbformat_minor": 0,
  "metadata": {
    "colab": {
      "name": "sneha3333 / prodduttur.ipynb",
      "private_outputs": true,
      "provenance": [],
      "authorship_tag": "ABX9TyMR9mxKtMZOhaETWyx2VpPJ",
      "include_colab_link": true
    },
    "kernelspec": {
      "name": "python3",
      "display_name": "Python 3"
    }
  },
  "cells": [
    {
      "cell_type": "markdown",
      "metadata": {
        "id": "view-in-github",
        "colab_type": "text"
      },
      "source": [
        "<a href=\"https://colab.research.google.com/github/sneha3333/prodduttur/blob/main/sneha3333_prodduttur.ipynb\" target=\"_parent\"><img src=\"https://colab.research.google.com/assets/colab-badge.svg\" alt=\"Open In Colab\"/></a>"
      ]
    },
    {
      "cell_type": "code",
      "metadata": {
        "id": "CU6IuaH5Gs1P"
      },
      "source": [
        "import matplotlib.pyplot as plt\r\n",
        "import numpy as np\r\n",
        "x=np.linspace(1,20,100)\r\n",
        "plt.plot(x,np.sin(x))\r\n",
        "plt.plot(x,np.cos(x))\r\n",
        "plt.show()\r\n",
        "\r\n"
      ],
      "execution_count": null,
      "outputs": []
    }
  ]
}